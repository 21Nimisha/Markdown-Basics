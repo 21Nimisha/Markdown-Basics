{
 "cells": [
  {
   "cell_type": "markdown",
   "id": "854834cd",
   "metadata": {},
   "source": [
    "# Headings "
   ]
  },
  {
   "cell_type": "markdown",
   "id": "6e320933",
   "metadata": {},
   "source": [
    "- To create a heading, add one to six # symbols before your heading text. The number of # you use will determine the hierarchy level and typeface size of the heading."
   ]
  },
  {
   "cell_type": "raw",
   "id": "841b4eee",
   "metadata": {},
   "source": [
    "# A first-level heading\n",
    "## A second-level heading\n",
    "### A third-level heading\n",
    "#### A fourth-level heading\n",
    "##### A fifth-level heading\n",
    "###### A six-level heading"
   ]
  },
  {
   "cell_type": "markdown",
   "id": "ffbb4574",
   "metadata": {},
   "source": [
    "# A first-level heading\n",
    "## A second-level heading\n",
    "### A third-level heading\n",
    "#### A fourth-level heading\n",
    "##### A fifth-level heading\n",
    "###### A six-level heading"
   ]
  },
  {
   "cell_type": "markdown",
   "id": "df44877a",
   "metadata": {},
   "source": [
    "# Paragraph"
   ]
  },
  {
   "cell_type": "raw",
   "id": "1bcc73d4",
   "metadata": {},
   "source": [
    "This is the first line <br>\n",
    "This is the second line\n",
    "- for changing line use <br>"
   ]
  },
  {
   "cell_type": "markdown",
   "id": "1e9ce9d9",
   "metadata": {},
   "source": [
    "This is the first line <br>\n",
    "This is the second line"
   ]
  },
  {
   "cell_type": "markdown",
   "id": "20d8ad3c",
   "metadata": {},
   "source": [
    "## Text Formatting"
   ]
  },
  {
   "cell_type": "markdown",
   "id": "50810fe7",
   "metadata": {},
   "source": [
    "### for bold , italic and strikethrough"
   ]
  },
  {
   "cell_type": "raw",
   "id": "74745696",
   "metadata": {},
   "source": [
    "This is **bold** highlight text\n",
    "This is *italic* highligh text\n",
    "This id ~~deleted~~ text"
   ]
  },
  {
   "cell_type": "markdown",
   "id": "69bc1f28",
   "metadata": {},
   "source": [
    "This is **bold** highlight text<br>\n",
    "This is *italic* highligh text<br>\n",
    "This is ~~deleted~~ text"
   ]
  },
  {
   "cell_type": "markdown",
   "id": "b89cf361",
   "metadata": {},
   "source": [
    "## Horizontal Rule\n",
    "## Line change\n",
    "\n",
    "- we use this when want to create section between any paragraph."
   ]
  },
  {
   "cell_type": "code",
   "execution_count": null,
   "id": "6155d775",
   "metadata": {},
   "outputs": [],
   "source": [
    "This is paragraph 1\n",
    "---\n",
    "This is paragraph2"
   ]
  },
  {
   "cell_type": "markdown",
   "id": "e71985c9",
   "metadata": {},
   "source": [
    "This is paragraph 1\n",
    "\n",
    "----\n",
    "\n",
    "This is paragraph2"
   ]
  },
  {
   "cell_type": "markdown",
   "id": "b8b52da7",
   "metadata": {},
   "source": [
    "### Bold and nested italic "
   ]
  },
  {
   "cell_type": "raw",
   "id": "5f2a6bcf",
   "metadata": {},
   "source": [
    "**This text is _extremely_ important**"
   ]
  },
  {
   "cell_type": "markdown",
   "id": "0a1ab8d5",
   "metadata": {},
   "source": [
    "**This text is _extremely_ important**"
   ]
  },
  {
   "cell_type": "markdown",
   "id": "650952fe",
   "metadata": {},
   "source": [
    "### All bold and italic"
   ]
  },
  {
   "cell_type": "raw",
   "id": "a3df2b0b",
   "metadata": {},
   "source": [
    "***All this text is important***"
   ]
  },
  {
   "cell_type": "markdown",
   "id": "d45caa07",
   "metadata": {},
   "source": [
    "***All this text is important***"
   ]
  },
  {
   "cell_type": "markdown",
   "id": "c76749d8",
   "metadata": {},
   "source": [
    "### Subscript"
   ]
  },
  {
   "cell_type": "raw",
   "id": "212d741e",
   "metadata": {},
   "source": [
    "<sub>This is a subscript text</sub>"
   ]
  },
  {
   "cell_type": "markdown",
   "id": "887c0db4",
   "metadata": {},
   "source": [
    "<sub>This is a subscript text</sub>"
   ]
  },
  {
   "cell_type": "markdown",
   "id": "a74306de",
   "metadata": {},
   "source": [
    "### Superscript"
   ]
  },
  {
   "cell_type": "raw",
   "id": "ddcb165c",
   "metadata": {},
   "source": [
    "<sup>This is a superscript text</sup>"
   ]
  },
  {
   "cell_type": "markdown",
   "id": "d64b9079",
   "metadata": {},
   "source": [
    "<sup>This is a superscript text</sup>"
   ]
  },
  {
   "cell_type": "markdown",
   "id": "9458f1be",
   "metadata": {},
   "source": [
    "## Blockquote\n",
    "- Sometime we use this when want to write something in quote or using quotation."
   ]
  },
  {
   "cell_type": "raw",
   "id": "d33d478c",
   "metadata": {},
   "source": [
    "> This is a blockquote\n",
    "\n",
    "Quoted text is indented, with a different type color."
   ]
  },
  {
   "cell_type": "markdown",
   "id": "f29db259",
   "metadata": {},
   "source": [
    "> This is a blockquote"
   ]
  },
  {
   "cell_type": "markdown",
   "id": "2c825f00",
   "metadata": {},
   "source": [
    "## Quoting Code "
   ]
  },
  {
   "cell_type": "markdown",
   "id": "6abe1b49",
   "metadata": {},
   "source": [
    "- Quoting code use to write any fuction in markdown or Suppose you want to quote the following \n",
    "Python code in your blog post.\n",
    "- Type \"```python\" after the first set of backticks to specify the language.\n"
   ]
  },
  {
   "cell_type": "raw",
   "id": "3d625a6f",
   "metadata": {},
   "source": [
    "```python\n",
    "\n",
    "def hello(name):\n",
    "  print('hello',name)\n",
    "\n",
    "```"
   ]
  },
  {
   "cell_type": "markdown",
   "id": "35c2544c",
   "metadata": {},
   "source": [
    "```python\n",
    "\n",
    "def hello(name):\n",
    "    print('hello', name)\n",
    "    \n",
    "```    "
   ]
  },
  {
   "cell_type": "raw",
   "id": "e720b596",
   "metadata": {},
   "source": [
    "- Use `git status` to list all new or modified files that haven't yet been committed."
   ]
  },
  {
   "cell_type": "markdown",
   "id": "c2794efc",
   "metadata": {},
   "source": [
    "- Use `git status` to list all new or modified files that haven't yet been committed."
   ]
  },
  {
   "cell_type": "raw",
   "id": "eca3dc26",
   "metadata": {},
   "source": [
    "Some basic Git commands are:\n",
    "```\n",
    "git status\n",
    "git add\n",
    "git commit\n",
    "```"
   ]
  },
  {
   "cell_type": "markdown",
   "id": "de981b90",
   "metadata": {},
   "source": [
    "Some basic Git commands are:\n",
    "```\n",
    "git status\n",
    "git add\n",
    "git commit\n",
    "```"
   ]
  },
  {
   "cell_type": "markdown",
   "id": "bf69592f",
   "metadata": {},
   "source": [
    "## List\n",
    "\n",
    "- can create ordered an unordered list\n",
    "\n",
    "- You can make an unordered list by preceding one or more lines of text with -, *, or +."
   ]
  },
  {
   "cell_type": "raw",
   "id": "af1d28b4",
   "metadata": {},
   "source": [
    "### topics to be covered (unordered list)\n",
    "- python\n",
    "* sql\n",
    "+ tableau"
   ]
  },
  {
   "cell_type": "markdown",
   "id": "4564b755",
   "metadata": {},
   "source": [
    "### topics to be covered (unordered list)\n",
    "- python\n",
    "* sql\n",
    "+ tableau"
   ]
  },
  {
   "cell_type": "raw",
   "id": "3d511488",
   "metadata": {},
   "source": [
    "### topics to be covered (ordered list)\n",
    "1. python\n",
    "2. sql\n",
    "3. tableau"
   ]
  },
  {
   "cell_type": "markdown",
   "id": "b61833ad",
   "metadata": {},
   "source": [
    "### topics to be covered (ordered list)\n",
    "1. python\n",
    "2. sql\n",
    "3. tableau"
   ]
  },
  {
   "cell_type": "markdown",
   "id": "51416dec",
   "metadata": {},
   "source": [
    "### Nested List\n",
    "- You can create a nested list by indenting one or more list items below another item."
   ]
  },
  {
   "cell_type": "code",
   "execution_count": null,
   "id": "89fcab26",
   "metadata": {},
   "outputs": [],
   "source": [
    "1. Python\n",
    "  - Variables\n",
    "    - Item 1\n",
    "    - Item 2\n",
    "  - Data Types\n",
    "  - Loops\n",
    "2. SQL\n",
    "3. Statistics"
   ]
  },
  {
   "cell_type": "markdown",
   "id": "bb9201e2",
   "metadata": {},
   "source": [
    "1. Python\n",
    "   - Variables\n",
    "     - Item 1\n",
    "     - Item 2\n",
    "   - Data Types\n",
    "   - Loops\n",
    "2. SQL\n",
    "3. Statistics`"
   ]
  },
  {
   "cell_type": "markdown",
   "id": "fd201598",
   "metadata": {},
   "source": [
    "## Task lists\n",
    "\n",
    "- To create a task list, preface list items with a hyphen and space followed by [ ]. To mark a task as complete, use [x]"
   ]
  },
  {
   "cell_type": "raw",
   "id": "6d0e8cd4",
   "metadata": {},
   "source": [
    "- [x] #task1\n",
    "- [ ] #task2\n",
    "* [ ] Task 1\n",
    "* [x] Task 2\n",
    "* [ ] Task 3\n",
    "* [x] Task 4"
   ]
  },
  {
   "cell_type": "markdown",
   "id": "8549ea69",
   "metadata": {},
   "source": [
    "- [x] #task1\n",
    "- [ ] #task2\n",
    "* [ ] Task 1\n",
    "* [x] Task 2\n",
    "* [ ] Task 3\n",
    "* [x] Task 4"
   ]
  },
  {
   "cell_type": "markdown",
   "id": "2996ead6",
   "metadata": {},
   "source": [
    "- If a task list item description begins with a parenthesis, you'll need to escape it with \\:"
   ]
  },
  {
   "cell_type": "raw",
   "id": "c6d773f1",
   "metadata": {},
   "source": [
    "- [ ] \\(Optional) Open a followup issue"
   ]
  },
  {
   "cell_type": "markdown",
   "id": "24b49497",
   "metadata": {},
   "source": [
    "- [ ] \\(Optional) Open a followup issue"
   ]
  },
  {
   "cell_type": "markdown",
   "id": "e278022b",
   "metadata": {},
   "source": [
    "## Image "
   ]
  },
  {
   "cell_type": "raw",
   "id": "0b9bbf1b",
   "metadata": {},
   "source": [
    "![]()\n",
    "- [] this is use for writing detail ()this use for giving link\n"
   ]
  },
  {
   "cell_type": "markdown",
   "id": "9aac982a",
   "metadata": {},
   "source": [
    "![Data Science](https://thedatascientist.com/wp-content/uploads/2019/06/what-is-data-science.jpg)"
   ]
  },
  {
   "cell_type": "markdown",
   "id": "098a340f",
   "metadata": {},
   "source": [
    "## Links"
   ]
  },
  {
   "cell_type": "raw",
   "id": "cc58ee14",
   "metadata": {},
   "source": [
    "[]()\n",
    "- [] this is use for writing detail ()this use for giving link"
   ]
  },
  {
   "cell_type": "markdown",
   "id": "08a68f6d",
   "metadata": {},
   "source": [
    "[Github Profile Nimisha](https://github.com/21Nimisha)"
   ]
  },
  {
   "cell_type": "markdown",
   "id": "6d0bcc42",
   "metadata": {},
   "source": [
    "# Tables"
   ]
  },
  {
   "cell_type": "raw",
   "id": "e844a628",
   "metadata": {},
   "source": [
    "| Name     | Graduate  | Marks    |\n",
    "|----------|-----------|----------|\n",
    "| Nimisha  | MBA       |  90      |\n",
    "| Neha     | MSC       |  85      |\n",
    "| Ankita   | MTECH     |  91      |"
   ]
  },
  {
   "cell_type": "markdown",
   "id": "a2367621",
   "metadata": {},
   "source": [
    "| Name     | Graduate  | Marks    |\n",
    "|----------|-----------|----------|\n",
    "| Nimisha  | MBA       |  90      |\n",
    "| Neha     | MSC       |  85      |\n",
    "| Ankita   | MTECH     |  91      |"
   ]
  },
  {
   "cell_type": "markdown",
   "id": "55c6e70a",
   "metadata": {},
   "source": [
    "# Hiding content with comments "
   ]
  },
  {
   "cell_type": "raw",
   "id": "a071f37d",
   "metadata": {},
   "source": [
    "<!-- This content will not appear in the rendered Markdown -->"
   ]
  },
  {
   "cell_type": "markdown",
   "id": "b893bf2d",
   "metadata": {},
   "source": [
    "<!-- This content will not appear in the rendered Markdown -->"
   ]
  }
 ],
 "metadata": {
  "kernelspec": {
   "display_name": "Python 3 (ipykernel)",
   "language": "python",
   "name": "python3"
  },
  "language_info": {
   "codemirror_mode": {
    "name": "ipython",
    "version": 3
   },
   "file_extension": ".py",
   "mimetype": "text/x-python",
   "name": "python",
   "nbconvert_exporter": "python",
   "pygments_lexer": "ipython3",
   "version": "3.10.9"
  }
 },
 "nbformat": 4,
 "nbformat_minor": 5
}
