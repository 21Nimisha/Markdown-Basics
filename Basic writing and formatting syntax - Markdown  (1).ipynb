{
 "cells": [
  {
   "cell_type": "markdown",
   "id": "96612630",
   "metadata": {},
   "source": [
    "# Headings "
   ]
  },
  {
   "cell_type": "markdown",
   "id": "7fc82268",
   "metadata": {},
   "source": [
    "- To create a heading, add one to six # symbols before your heading text. The number of # you use will determine the hierarchy level and typeface size of the heading."
   ]
  },
  {
   "cell_type": "raw",
   "id": "e8126954",
   "metadata": {},
   "source": [
    "# A first-level heading\n",
    "## A second-level heading\n",
    "### A third-level heading\n",
    "#### A fourth-level heading\n",
    "##### A fifth-level heading\n",
    "###### A six-level heading"
   ]
  },
  {
   "cell_type": "markdown",
   "id": "5a1d2a1b",
   "metadata": {},
   "source": [
    "# A first-level heading\n",
    "## A second-level heading\n",
    "### A third-level heading\n",
    "#### A fourth-level heading\n",
    "##### A fifth-level heading\n",
    "###### A six-level heading"
   ]
  },
  {
   "cell_type": "markdown",
   "id": "e8d6ac76",
   "metadata": {},
   "source": [
    "# Paragraph"
   ]
  },
  {
   "cell_type": "raw",
   "id": "d180bdec",
   "metadata": {},
   "source": [
    "This is the first line <br>\n",
    "This is the second line\n",
    "- for changing line use <br>"
   ]
  },
  {
   "cell_type": "markdown",
   "id": "682c5bcc",
   "metadata": {},
   "source": [
    "This is the first line <br>\n",
    "This is the second line"
   ]
  },
  {
   "cell_type": "markdown",
   "id": "c87858dd",
   "metadata": {},
   "source": [
    "## Text Formatting"
   ]
  },
  {
   "cell_type": "markdown",
   "id": "e2ec1d97",
   "metadata": {},
   "source": [
    "### for bold , italic and strikethrough"
   ]
  },
  {
   "cell_type": "raw",
   "id": "3a32b437",
   "metadata": {},
   "source": [
    "This is **bold** highlight text\n",
    "This is *italic* highligh text\n",
    "This id ~~deleted~~ text"
   ]
  },
  {
   "cell_type": "markdown",
   "id": "4b03c0bc",
   "metadata": {},
   "source": [
    "This is **bold** highlight text<br>\n",
    "This is *italic* highligh text<br>\n",
    "This is ~~deleted~~ text"
   ]
  },
  {
   "cell_type": "markdown",
   "id": "497fc95e",
   "metadata": {},
   "source": [
    "## Horizontal Rule\n",
    "## Line change\n",
    "\n",
    "- we use this when want to create section between any paragraph."
   ]
  },
  {
   "cell_type": "code",
   "execution_count": null,
   "id": "e2fc7397",
   "metadata": {},
   "outputs": [],
   "source": [
    "This is paragraph 1\n",
    "---\n",
    "This is paragraph2"
   ]
  },
  {
   "cell_type": "markdown",
   "id": "0775db56",
   "metadata": {},
   "source": [
    "This is paragraph 1\n",
    "\n",
    "----\n",
    "\n",
    "This is paragraph2"
   ]
  },
  {
   "cell_type": "markdown",
   "id": "f0afaebc",
   "metadata": {},
   "source": [
    "### Bold and nested italic "
   ]
  },
  {
   "cell_type": "raw",
   "id": "893b84a3",
   "metadata": {},
   "source": [
    "**This text is _extremely_ important**"
   ]
  },
  {
   "cell_type": "markdown",
   "id": "3b3f137a",
   "metadata": {},
   "source": [
    "**This text is _extremely_ important**"
   ]
  },
  {
   "cell_type": "markdown",
   "id": "4258300b",
   "metadata": {},
   "source": [
    "### All bold and italic"
   ]
  },
  {
   "cell_type": "raw",
   "id": "d42645ac",
   "metadata": {},
   "source": [
    "***All this text is important***"
   ]
  },
  {
   "cell_type": "markdown",
   "id": "24fb4dbc",
   "metadata": {},
   "source": [
    "***All this text is important***"
   ]
  },
  {
   "cell_type": "markdown",
   "id": "972ba59e",
   "metadata": {},
   "source": [
    "### Subscript"
   ]
  },
  {
   "cell_type": "raw",
   "id": "f796dd65",
   "metadata": {},
   "source": [
    "<sub>This is a subscript text</sub>"
   ]
  },
  {
   "cell_type": "markdown",
   "id": "5efe1ac0",
   "metadata": {},
   "source": [
    "<sub>This is a subscript text</sub>"
   ]
  },
  {
   "cell_type": "markdown",
   "id": "e2a8ccdd",
   "metadata": {},
   "source": [
    "### Superscript"
   ]
  },
  {
   "cell_type": "raw",
   "id": "333e2de6",
   "metadata": {},
   "source": [
    "<sup>This is a superscript text</sup>"
   ]
  },
  {
   "cell_type": "markdown",
   "id": "31729833",
   "metadata": {},
   "source": [
    "<sup>This is a superscript text</sup>"
   ]
  },
  {
   "cell_type": "markdown",
   "id": "768c7f96",
   "metadata": {},
   "source": [
    "## Blockquote\n",
    "- Sometime we use this when want to write something in quote or using quotation."
   ]
  },
  {
   "cell_type": "raw",
   "id": "83d5785f",
   "metadata": {},
   "source": [
    "> This is a blockquote\n",
    "\n",
    "Quoted text is indented, with a different type color."
   ]
  },
  {
   "cell_type": "markdown",
   "id": "826c8aac",
   "metadata": {},
   "source": [
    "> This is a blockquote"
   ]
  },
  {
   "cell_type": "markdown",
   "id": "1401b138",
   "metadata": {},
   "source": [
    "## Quoting Code "
   ]
  },
  {
   "cell_type": "markdown",
   "id": "84199129",
   "metadata": {},
   "source": [
    "- Quoting code use to write any fuction in markdown or Suppose you want to quote the following \n",
    "Python code in your blog post.\n",
    "- Type \"```python\" after the first set of backticks to specify the language.\n"
   ]
  },
  {
   "cell_type": "raw",
   "id": "89640c69",
   "metadata": {},
   "source": [
    "```python\n",
    "\n",
    "def hello(name):\n",
    "  print('hello',name)\n",
    "\n",
    "```"
   ]
  },
  {
   "cell_type": "markdown",
   "id": "0dd29f73",
   "metadata": {},
   "source": [
    "```python\n",
    "\n",
    "def hello(name):\n",
    "    print('hello', name)\n",
    "    \n",
    "```    "
   ]
  },
  {
   "cell_type": "raw",
   "id": "c2903327",
   "metadata": {},
   "source": [
    "- Use `git status` to list all new or modified files that haven't yet been committed."
   ]
  },
  {
   "cell_type": "markdown",
   "id": "e5154eba",
   "metadata": {},
   "source": [
    "- Use `git status` to list all new or modified files that haven't yet been committed."
   ]
  },
  {
   "cell_type": "raw",
   "id": "6a24ce83",
   "metadata": {},
   "source": [
    "Some basic Git commands are:\n",
    "```\n",
    "git status\n",
    "git add\n",
    "git commit\n",
    "```"
   ]
  },
  {
   "cell_type": "markdown",
   "id": "7f5da588",
   "metadata": {},
   "source": [
    "Some basic Git commands are:\n",
    "```\n",
    "git status\n",
    "git add\n",
    "git commit\n",
    "```"
   ]
  },
  {
   "cell_type": "markdown",
   "id": "a131d88c",
   "metadata": {},
   "source": [
    "## List\n",
    "\n",
    "- can create ordered an unordered list\n",
    "\n",
    "- You can make an unordered list by preceding one or more lines of text with -, *, or +."
   ]
  },
  {
   "cell_type": "raw",
   "id": "37a5979b",
   "metadata": {},
   "source": [
    "### topics to be covered (unordered list)\n",
    "- python\n",
    "* sql\n",
    "+ tableau"
   ]
  },
  {
   "cell_type": "markdown",
   "id": "e6bdf565",
   "metadata": {},
   "source": [
    "### topics to be covered (unordered list)\n",
    "- python\n",
    "* sql\n",
    "+ tableau"
   ]
  },
  {
   "cell_type": "raw",
   "id": "4ecff37c",
   "metadata": {},
   "source": [
    "### topics to be covered (ordered list)\n",
    "1. python\n",
    "2. sql\n",
    "3. tableau"
   ]
  },
  {
   "cell_type": "markdown",
   "id": "e7664676",
   "metadata": {},
   "source": [
    "### topics to be covered (ordered list)\n",
    "1. python\n",
    "2. sql\n",
    "3. tableau"
   ]
  },
  {
   "cell_type": "markdown",
   "id": "dd2975c7",
   "metadata": {},
   "source": [
    "### Nested List\n",
    "- You can create a nested list by indenting one or more list items below another item."
   ]
  },
  {
   "cell_type": "code",
   "execution_count": null,
   "id": "6efb3a15",
   "metadata": {},
   "outputs": [],
   "source": [
    "1. Python\n",
    "  - Variables\n",
    "    - Item 1\n",
    "    - Item 2\n",
    "  - Data Types\n",
    "  - Loops\n",
    "2. SQL\n",
    "3. Statistics"
   ]
  },
  {
   "cell_type": "markdown",
   "id": "79f4a4cc",
   "metadata": {},
   "source": [
    "1. Python\n",
    "   - Variables\n",
    "     - Item 1\n",
    "     - Item 2\n",
    "   - Data Types\n",
    "   - Loops\n",
    "2. SQL\n",
    "3. Statistics`"
   ]
  },
  {
   "cell_type": "markdown",
   "id": "7fcd4663",
   "metadata": {},
   "source": [
    "## Task lists\n",
    "\n",
    "- To create a task list, preface list items with a hyphen and space followed by [ ]. To mark a task as complete, use [x]"
   ]
  },
  {
   "cell_type": "raw",
   "id": "4512e913",
   "metadata": {},
   "source": [
    "- [x] #task1\n",
    "- [ ] #task2\n",
    "* [ ] Task 1\n",
    "* [x] Task 2\n",
    "* [ ] Task 3\n",
    "* [x] Task 4"
   ]
  },
  {
   "cell_type": "markdown",
   "id": "1cecf752",
   "metadata": {},
   "source": [
    "- [x] #task1\n",
    "- [ ] #task2\n",
    "* [ ] Task 1\n",
    "* [x] Task 2\n",
    "* [ ] Task 3\n",
    "* [x] Task 4"
   ]
  },
  {
   "cell_type": "markdown",
   "id": "94c10dd3",
   "metadata": {},
   "source": [
    "- If a task list item description begins with a parenthesis, you'll need to escape it with \\:"
   ]
  },
  {
   "cell_type": "raw",
   "id": "06789a30",
   "metadata": {},
   "source": [
    "- [ ] \\(Optional) Open a followup issue"
   ]
  },
  {
   "cell_type": "markdown",
   "id": "e9450010",
   "metadata": {},
   "source": [
    "- [ ] \\(Optional) Open a followup issue"
   ]
  },
  {
   "cell_type": "markdown",
   "id": "67d54f08",
   "metadata": {},
   "source": [
    "## Image "
   ]
  },
  {
   "cell_type": "raw",
   "id": "a18c71a8",
   "metadata": {},
   "source": [
    "![]()\n",
    "- [] this is use for writing detail ()this use for giving link\n"
   ]
  },
  {
   "cell_type": "markdown",
   "id": "e5143a31",
   "metadata": {},
   "source": [
    "![Data Science](https://thedatascientist.com/wp-content/uploads/2019/06/what-is-data-science.jpg)"
   ]
  },
  {
   "cell_type": "markdown",
   "id": "9da155cb",
   "metadata": {},
   "source": [
    "## Links"
   ]
  },
  {
   "cell_type": "raw",
   "id": "56b91bce",
   "metadata": {},
   "source": [
    "[]()\n",
    "- [] this is use for writing detail ()this use for giving link"
   ]
  },
  {
   "cell_type": "markdown",
   "id": "dad97790",
   "metadata": {},
   "source": [
    "[Github Profile Nimisha](https://github.com/21Nimisha)"
   ]
  },
  {
   "cell_type": "markdown",
   "id": "fc567651",
   "metadata": {},
   "source": [
    "# Tables"
   ]
  },
  {
   "cell_type": "raw",
   "id": "07ffa9b2",
   "metadata": {},
   "source": [
    "| Name     | Graduate  | Marks    |\n",
    "|----------|-----------|----------|\n",
    "| Nimisha  | MBA       |  90      |\n",
    "| Neha     | MSC       |  85      |\n",
    "| Ankita   | MTECH     |  91      |"
   ]
  },
  {
   "cell_type": "markdown",
   "id": "c0ba43de",
   "metadata": {},
   "source": [
    "| Name     | Graduate  | Marks    |\n",
    "|----------|-----------|----------|\n",
    "| Nimisha  | MBA       |  90      |\n",
    "| Neha     | MSC       |  85      |\n",
    "| Ankita   | MTECH     |  91      |"
   ]
  },
  {
   "cell_type": "markdown",
   "id": "ca62b2bf",
   "metadata": {},
   "source": [
    "# Hiding content with comments "
   ]
  },
  {
   "cell_type": "raw",
   "id": "af3210c9",
   "metadata": {},
   "source": [
    "<!-- This content will not appear in the rendered Markdown -->"
   ]
  },
  {
   "cell_type": "markdown",
   "id": "a9bc1903",
   "metadata": {},
   "source": [
    "<!-- This content will not appear in the rendered Markdown -->"
   ]
  }
 ],
 "metadata": {
  "kernelspec": {
   "display_name": "Python 3 (ipykernel)",
   "language": "python",
   "name": "python3"
  },
  "language_info": {
   "codemirror_mode": {
    "name": "ipython",
    "version": 3
   },
   "file_extension": ".py",
   "mimetype": "text/x-python",
   "name": "python",
   "nbconvert_exporter": "python",
   "pygments_lexer": "ipython3",
   "version": "3.10.9"
  }
 },
 "nbformat": 4,
 "nbformat_minor": 5
}
